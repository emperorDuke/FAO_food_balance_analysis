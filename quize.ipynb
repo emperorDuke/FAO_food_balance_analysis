{
 "cells": [
  {
   "cell_type": "code",
   "execution_count": 110,
   "metadata": {},
   "outputs": [
    {
     "data": {
      "text/plain": [
       "(60943, 12)"
      ]
     },
     "execution_count": 110,
     "metadata": {},
     "output_type": "execute_result"
    }
   ],
   "source": [
    "import pandas as pd\n",
    "\n",
    "food_balance_datasets = pd.read_csv(\n",
    "    \"quiz_data/FoodBalanceSheets_E_Africa_NOFLAG.csv\", \n",
    "    encoding='latin-1'\n",
    ")\n",
    "\n",
    "# How would you check for the number of rows and columns in a pandas DataFrame named df?\n",
    "    \n",
    "food_balance_datasets.shape"
   ]
  },
  {
   "cell_type": "code",
   "execution_count": 119,
   "metadata": {},
   "outputs": [],
   "source": [
    "## i personally like all my column names in lower case when carrying out analyis, i will change it back later\n",
    "\n",
    "old_names = food_balance_datasets.columns\n",
    "new_names = dict(zip(old_names, map(lambda x: x.lower(), old_names)))\n",
    "\n",
    "food_balance_datasets.rename(columns=new_names, inplace=True)\n",
    "\n",
    "food_balance_datasets.head()"
   ]
  },
  {
   "cell_type": "code",
   "execution_count": 85,
   "metadata": {},
   "outputs": [
    {
     "data": {
      "text/html": [
       "<div>\n",
       "<style scoped>\n",
       "    .dataframe tbody tr th:only-of-type {\n",
       "        vertical-align: middle;\n",
       "    }\n",
       "\n",
       "    .dataframe tbody tr th {\n",
       "        vertical-align: top;\n",
       "    }\n",
       "\n",
       "    .dataframe thead th {\n",
       "        text-align: right;\n",
       "    }\n",
       "</style>\n",
       "<table border=\"1\" class=\"dataframe\">\n",
       "  <thead>\n",
       "    <tr style=\"text-align: right;\">\n",
       "      <th></th>\n",
       "      <th>Age</th>\n",
       "      <th>Nationality</th>\n",
       "      <th>Overall</th>\n",
       "    </tr>\n",
       "  </thead>\n",
       "  <tbody>\n",
       "    <tr>\n",
       "      <th>1</th>\n",
       "      <td>35</td>\n",
       "      <td>Portugal</td>\n",
       "      <td>94</td>\n",
       "    </tr>\n",
       "    <tr>\n",
       "      <th>2</th>\n",
       "      <td>33</td>\n",
       "      <td>Argentina</td>\n",
       "      <td>93</td>\n",
       "    </tr>\n",
       "    <tr>\n",
       "      <th>3</th>\n",
       "      <td>30</td>\n",
       "      <td>Brazil</td>\n",
       "      <td>92</td>\n",
       "    </tr>\n",
       "  </tbody>\n",
       "</table>\n",
       "</div>"
      ],
      "text/plain": [
       "   Age Nationality  Overall\n",
       "1   35    Portugal       94\n",
       "2   33   Argentina       93\n",
       "3   30      Brazil       92"
      ]
     },
     "execution_count": 85,
     "metadata": {},
     "output_type": "execute_result"
    }
   ],
   "source": [
    "#question 1 \n",
    "\n",
    "lst = [[35, 'Portugal', 94], [33, 'Argentina', 93], [30 , 'Brazil', 92]]\n",
    "col = [\"Age\", \"Nationality\", \"Overall\"]\n",
    "\n",
    "pd.DataFrame(lst, columns = col, index =[i for i in range(1,4)])\n",
    "pd.DataFrame(lst, columns = col, index =[1,2,3])"
   ]
  },
  {
   "cell_type": "code",
   "execution_count": 86,
   "metadata": {},
   "outputs": [
    {
     "data": {
      "text/plain": [
       "element\n",
       "Domestic supply quantity                  31214.98\n",
       "Export Quantity                             494.75\n",
       "Fat supply quantity (g/capita/day)           91.85\n",
       "Feed                                       2070.22\n",
       "Food                                      21120.65\n",
       "Food supply (kcal/capita/day)              7685.00\n",
       "Food supply quantity (kg/capita/yr)         871.59\n",
       "Import Quantity                            1721.80\n",
       "Losses                                     2176.00\n",
       "Other uses (non-food)                      3957.12\n",
       "Processing                                 1803.00\n",
       "Production                                29482.89\n",
       "Protein supply quantity (g/capita/day)      173.05\n",
       "Residuals                                  -616.00\n",
       "Seed                                        699.00\n",
       "Stock Variation                            -505.00\n",
       "Total Population - Both sexes             24234.00\n",
       "Name: y2015, dtype: float64"
      ]
     },
     "execution_count": 86,
     "metadata": {},
     "output_type": "execute_result"
    }
   ],
   "source": [
    "# question 3\n",
    "\n",
    "madagascar_data = food_balance_datasets.loc[list(food_balance_datasets['area'] == \"Madagascar\")]\n",
    "madagascar_data.groupby(['element'])['y2015'].sum()"
   ]
  },
  {
   "cell_type": "code",
   "execution_count": 87,
   "metadata": {},
   "outputs": [
    {
     "data": {
      "text/plain": [
       "area\n",
       "Algeria                         325644.27\n",
       "Angola                          229159.57\n",
       "Benin                           124771.22\n",
       "Botswana                         22101.30\n",
       "Burkina Faso                    101855.07\n",
       "Cabo Verde                       14650.74\n",
       "Cameroon                        232030.43\n",
       "Central African Republic         29937.00\n",
       "Chad                             71594.68\n",
       "Comoros                             59.84\n",
       "Congo                            41181.68\n",
       "Côte d'Ivoire                   224599.01\n",
       "Djibouti                         22729.91\n",
       "Egypt                           866379.92\n",
       "Eswatini                         54343.33\n",
       "Ethiopia                        448683.76\n",
       "Ethiopia PDR                         0.00\n",
       "Gabon                            27979.64\n",
       "Gambia                           23154.18\n",
       "Ghana                           337599.06\n",
       "Guinea                           98138.87\n",
       "Guinea-Bissau                    19102.77\n",
       "Kenya                           264660.66\n",
       "Lesotho                          21267.96\n",
       "Liberia                          29342.20\n",
       "Madagascar                      131197.73\n",
       "Malawi                          181098.71\n",
       "Mali                            149928.33\n",
       "Mauritania                      156665.46\n",
       "Mauritius                        51114.83\n",
       "Morocco                         388495.36\n",
       "Mozambique                      161407.98\n",
       "Namibia                          29874.89\n",
       "Niger                           126707.58\n",
       "Nigeria                        1483268.23\n",
       "Rwanda                           73663.69\n",
       "Sao Tome and Principe            12662.63\n",
       "Senegal                          95681.15\n",
       "Seychelles                         442.34\n",
       "Sierra Leone                     55311.33\n",
       "South Africa                    517590.54\n",
       "Sudan                           239931.92\n",
       "Sudan (former)                       0.00\n",
       "Togo                             49841.88\n",
       "Tunisia                         124167.20\n",
       "Uganda                          213950.38\n",
       "United Republic of Tanzania     322616.85\n",
       "Zambia                          103223.77\n",
       "Zimbabwe                         75919.34\n",
       "Name: y2017, dtype: float64"
      ]
     },
     "execution_count": 87,
     "metadata": {},
     "output_type": "execute_result"
    }
   ],
   "source": [
    "# question 4\n",
    "\n",
    "food_balance_datasets.groupby([\"area\"])[\"y2017\"].sum()"
   ]
  },
  {
   "cell_type": "code",
   "execution_count": 88,
   "metadata": {},
   "outputs": [
    {
     "data": {
      "text/plain": [
       "8375729.1899999995"
      ]
     },
     "execution_count": 88,
     "metadata": {},
     "output_type": "execute_result"
    }
   ],
   "source": [
    "#question 5\n",
    "\n",
    "food_balance_datasets.groupby(['element'])['y2017'].sum().sum()"
   ]
  },
  {
   "cell_type": "code",
   "execution_count": 91,
   "metadata": {},
   "outputs": [
    {
     "data": {
      "text/plain": [
       "item\n",
       "Alcohol, Non-Food        2293.00\n",
       "Alcoholic Beverages     97847.27\n",
       "Animal Products         11578.61\n",
       "Animal fats            269648.27\n",
       "Apples and products      9640.51\n",
       "                         ...    \n",
       "Vegetables, Other      163987.21\n",
       "Vegetal Products       107775.39\n",
       "Wheat and products     242645.19\n",
       "Wine                     4039.32\n",
       "Yams                   221272.09\n",
       "Name: y2018, Length: 119, dtype: float64"
      ]
     },
     "execution_count": 91,
     "metadata": {},
     "output_type": "execute_result"
    }
   ],
   "source": [
    "# question 8\n",
    "\n",
    "food_balance_datasets.groupby(['item'])['y2015'].sum()\n",
    "food_balance_datasets.groupby(['item'])['y2018'].sum()"
   ]
  },
  {
   "cell_type": "code",
   "execution_count": 92,
   "metadata": {},
   "outputs": [
    {
     "ename": "TypeError",
     "evalue": "'tuple' object does not support item assignment",
     "output_type": "error",
     "traceback": [
      "\u001b[1;31m---------------------------------------------------------------------------\u001b[0m",
      "\u001b[1;31mTypeError\u001b[0m                                 Traceback (most recent call last)",
      "\u001b[1;32mc:\\Users\\Edem Okokon Effiom\\Documents\\hamoye_internship\\task_one\\quize.ipynb Cell 12\u001b[0m line \u001b[0;36m3\n\u001b[0;32m      <a href='vscode-notebook-cell:/c%3A/Users/Edem%20Okokon%20Effiom/Documents/hamoye_internship/task_one/quize.ipynb#X20sZmlsZQ%3D%3D?line=0'>1</a>\u001b[0m my_tuppy \u001b[39m=\u001b[39m (\u001b[39m1\u001b[39m,\u001b[39m2\u001b[39m,\u001b[39m5\u001b[39m,\u001b[39m8\u001b[39m)\n\u001b[1;32m----> <a href='vscode-notebook-cell:/c%3A/Users/Edem%20Okokon%20Effiom/Documents/hamoye_internship/task_one/quize.ipynb#X20sZmlsZQ%3D%3D?line=2'>3</a>\u001b[0m my_tuppy[\u001b[39m2\u001b[39;49m] \u001b[39m=\u001b[39m \u001b[39m6\u001b[39m\n",
      "\u001b[1;31mTypeError\u001b[0m: 'tuple' object does not support item assignment"
     ]
    }
   ],
   "source": [
    "#question 10\n",
    "\n",
    "my_tuppy = (1,2,5,8)\n",
    "\n",
    "my_tuppy[2] = 6"
   ]
  },
  {
   "cell_type": "code",
   "execution_count": null,
   "metadata": {},
   "outputs": [
    {
     "data": {
      "text/plain": [
       "area\n",
       "Sudan (former)               0.00\n",
       "Ethiopia PDR                 0.00\n",
       "Comoros                     59.84\n",
       "Seychelles                 442.34\n",
       "Sao Tome and Principe    12662.63\n",
       "Cabo Verde               14650.74\n",
       "Guinea-Bissau            19102.77\n",
       "Name: y2017, dtype: float64"
      ]
     },
     "execution_count": 70,
     "metadata": {},
     "output_type": "execute_result"
    }
   ],
   "source": [
    "# Select columns ‘Y2017’ and ‘Area’, Perform a groupby operation on ‘Area’.  \n",
    "# Which of these Areas had the 7th lowest sum in 2017?\n",
    "\n",
    "food_balance_datasets.groupby(['area'])['y2017'].sum().sort_values()[:7]"
   ]
  },
  {
   "cell_type": "code",
   "execution_count": 93,
   "metadata": {},
   "outputs": [
    {
     "data": {
      "text/plain": [
       "49"
      ]
     },
     "execution_count": 93,
     "metadata": {},
     "output_type": "execute_result"
    }
   ],
   "source": [
    "# What is the total number of unique countries in the dataset?\n",
    "\n",
    "food_balance_datasets['area'].nunique()"
   ]
  },
  {
   "cell_type": "code",
   "execution_count": 146,
   "metadata": {},
   "outputs": [
    {
     "data": {
      "text/html": [
       "<div>\n",
       "<style scoped>\n",
       "    .dataframe tbody tr th:only-of-type {\n",
       "        vertical-align: middle;\n",
       "    }\n",
       "\n",
       "    .dataframe tbody tr th {\n",
       "        vertical-align: top;\n",
       "    }\n",
       "\n",
       "    .dataframe thead th {\n",
       "        text-align: right;\n",
       "    }\n",
       "</style>\n",
       "<table border=\"1\" class=\"dataframe\">\n",
       "  <thead>\n",
       "    <tr style=\"text-align: right;\">\n",
       "      <th></th>\n",
       "      <th>y2014</th>\n",
       "      <th>y2015</th>\n",
       "      <th>y2016</th>\n",
       "      <th>y2017</th>\n",
       "    </tr>\n",
       "    <tr>\n",
       "      <th>element</th>\n",
       "      <th></th>\n",
       "      <th></th>\n",
       "      <th></th>\n",
       "      <th></th>\n",
       "    </tr>\n",
       "  </thead>\n",
       "  <tbody>\n",
       "    <tr>\n",
       "      <th>Tourist consumption</th>\n",
       "      <td>416.00</td>\n",
       "      <td>349.00</td>\n",
       "      <td>89.00</td>\n",
       "      <td>91.00</td>\n",
       "    </tr>\n",
       "    <tr>\n",
       "      <th>Fat supply quantity (g/capita/day)</th>\n",
       "      <td>10225.56</td>\n",
       "      <td>10235.74</td>\n",
       "      <td>10102.77</td>\n",
       "      <td>10253.84</td>\n",
       "    </tr>\n",
       "    <tr>\n",
       "      <th>Protein supply quantity (g/capita/day)</th>\n",
       "      <td>11836.46</td>\n",
       "      <td>11833.95</td>\n",
       "      <td>11779.69</td>\n",
       "      <td>11842.45</td>\n",
       "    </tr>\n",
       "    <tr>\n",
       "      <th>Seed</th>\n",
       "      <td>21922.92</td>\n",
       "      <td>23976.82</td>\n",
       "      <td>23389.20</td>\n",
       "      <td>24870.14</td>\n",
       "    </tr>\n",
       "    <tr>\n",
       "      <th>Residuals</th>\n",
       "      <td>30149.00</td>\n",
       "      <td>30045.00</td>\n",
       "      <td>37224.00</td>\n",
       "      <td>35500.00</td>\n",
       "    </tr>\n",
       "    <tr>\n",
       "      <th>Food supply quantity (kg/capita/yr)</th>\n",
       "      <td>49650.63</td>\n",
       "      <td>49345.13</td>\n",
       "      <td>48985.28</td>\n",
       "      <td>48690.04</td>\n",
       "    </tr>\n",
       "    <tr>\n",
       "      <th>Stock Variation</th>\n",
       "      <td>58749.83</td>\n",
       "      <td>34910.99</td>\n",
       "      <td>33140.12</td>\n",
       "      <td>54316.91</td>\n",
       "    </tr>\n",
       "    <tr>\n",
       "      <th>Other uses (non-food)</th>\n",
       "      <td>78718.13</td>\n",
       "      <td>66254.41</td>\n",
       "      <td>69563.68</td>\n",
       "      <td>91645.97</td>\n",
       "    </tr>\n",
       "    <tr>\n",
       "      <th>Export Quantity</th>\n",
       "      <td>150020.64</td>\n",
       "      <td>157614.47</td>\n",
       "      <td>151920.46</td>\n",
       "      <td>182338.80</td>\n",
       "    </tr>\n",
       "    <tr>\n",
       "      <th>Losses</th>\n",
       "      <td>153223.00</td>\n",
       "      <td>155439.00</td>\n",
       "      <td>157787.00</td>\n",
       "      <td>160614.00</td>\n",
       "    </tr>\n",
       "    <tr>\n",
       "      <th>Feed</th>\n",
       "      <td>216927.89</td>\n",
       "      <td>225050.22</td>\n",
       "      <td>228958.65</td>\n",
       "      <td>223705.68</td>\n",
       "    </tr>\n",
       "    <tr>\n",
       "      <th>Import Quantity</th>\n",
       "      <td>274144.48</td>\n",
       "      <td>267018.46</td>\n",
       "      <td>286582.78</td>\n",
       "      <td>294559.09</td>\n",
       "    </tr>\n",
       "    <tr>\n",
       "      <th>Processing</th>\n",
       "      <td>282923.00</td>\n",
       "      <td>287929.00</td>\n",
       "      <td>280631.00</td>\n",
       "      <td>292836.00</td>\n",
       "    </tr>\n",
       "    <tr>\n",
       "      <th>Food supply (kcal/capita/day)</th>\n",
       "      <td>454257.00</td>\n",
       "      <td>453383.00</td>\n",
       "      <td>451810.00</td>\n",
       "      <td>454681.00</td>\n",
       "    </tr>\n",
       "    <tr>\n",
       "      <th>Total Population - Both sexes</th>\n",
       "      <td>1031585.00</td>\n",
       "      <td>1058081.00</td>\n",
       "      <td>1085107.00</td>\n",
       "      <td>1112641.00</td>\n",
       "    </tr>\n",
       "    <tr>\n",
       "      <th>Food</th>\n",
       "      <td>1212332.49</td>\n",
       "      <td>1232361.10</td>\n",
       "      <td>1247022.17</td>\n",
       "      <td>1258888.28</td>\n",
       "    </tr>\n",
       "    <tr>\n",
       "      <th>Production</th>\n",
       "      <td>1931287.75</td>\n",
       "      <td>1947019.39</td>\n",
       "      <td>1943537.15</td>\n",
       "      <td>2030056.89</td>\n",
       "    </tr>\n",
       "    <tr>\n",
       "      <th>Domestic supply quantity</th>\n",
       "      <td>1996716.35</td>\n",
       "      <td>2021493.55</td>\n",
       "      <td>2044842.70</td>\n",
       "      <td>2088198.10</td>\n",
       "    </tr>\n",
       "  </tbody>\n",
       "</table>\n",
       "</div>"
      ],
      "text/plain": [
       "                                             y2014       y2015       y2016  \\\n",
       "element                                                                      \n",
       "Tourist consumption                         416.00      349.00       89.00   \n",
       "Fat supply quantity (g/capita/day)        10225.56    10235.74    10102.77   \n",
       "Protein supply quantity (g/capita/day)    11836.46    11833.95    11779.69   \n",
       "Seed                                      21922.92    23976.82    23389.20   \n",
       "Residuals                                 30149.00    30045.00    37224.00   \n",
       "Food supply quantity (kg/capita/yr)       49650.63    49345.13    48985.28   \n",
       "Stock Variation                           58749.83    34910.99    33140.12   \n",
       "Other uses (non-food)                     78718.13    66254.41    69563.68   \n",
       "Export Quantity                          150020.64   157614.47   151920.46   \n",
       "Losses                                   153223.00   155439.00   157787.00   \n",
       "Feed                                     216927.89   225050.22   228958.65   \n",
       "Import Quantity                          274144.48   267018.46   286582.78   \n",
       "Processing                               282923.00   287929.00   280631.00   \n",
       "Food supply (kcal/capita/day)            454257.00   453383.00   451810.00   \n",
       "Total Population - Both sexes           1031585.00  1058081.00  1085107.00   \n",
       "Food                                    1212332.49  1232361.10  1247022.17   \n",
       "Production                              1931287.75  1947019.39  1943537.15   \n",
       "Domestic supply quantity                1996716.35  2021493.55  2044842.70   \n",
       "\n",
       "                                             y2017  \n",
       "element                                             \n",
       "Tourist consumption                          91.00  \n",
       "Fat supply quantity (g/capita/day)        10253.84  \n",
       "Protein supply quantity (g/capita/day)    11842.45  \n",
       "Seed                                      24870.14  \n",
       "Residuals                                 35500.00  \n",
       "Food supply quantity (kg/capita/yr)       48690.04  \n",
       "Stock Variation                           54316.91  \n",
       "Other uses (non-food)                     91645.97  \n",
       "Export Quantity                          182338.80  \n",
       "Losses                                   160614.00  \n",
       "Feed                                     223705.68  \n",
       "Import Quantity                          294559.09  \n",
       "Processing                               292836.00  \n",
       "Food supply (kcal/capita/day)            454681.00  \n",
       "Total Population - Both sexes           1112641.00  \n",
       "Food                                    1258888.28  \n",
       "Production                              2030056.89  \n",
       "Domestic supply quantity                2088198.10  "
      ]
     },
     "execution_count": 146,
     "metadata": {},
     "output_type": "execute_result"
    }
   ],
   "source": [
    "# 18\n",
    "\n",
    "years = ['y2014', \"y2015\", \"y2016\", \"y2017\"]\n",
    "\n",
    "food_balance_datasets[['element'] + years].groupby(\"element\").sum().sort_values(by = years)"
   ]
  },
  {
   "cell_type": "code",
   "execution_count": 148,
   "metadata": {},
   "outputs": [
    {
     "data": {
      "text/plain": [
       "element\n",
       "Domestic supply quantity                  2088198.10\n",
       "Export Quantity                            182338.80\n",
       "Fat supply quantity (g/capita/day)          10253.84\n",
       "Feed                                       223705.68\n",
       "Food                                      1258888.28\n",
       "Food supply (kcal/capita/day)              454681.00\n",
       "Food supply quantity (kg/capita/yr)         48690.04\n",
       "Import Quantity                            294559.09\n",
       "Losses                                     160614.00\n",
       "Other uses (non-food)                       91645.97\n",
       "Processing                                 292836.00\n",
       "Production                                2030056.89\n",
       "Protein supply quantity (g/capita/day)      11842.45\n",
       "Residuals                                   35500.00\n",
       "Seed                                        24870.14\n",
       "Stock Variation                             54316.91\n",
       "Total Population - Both sexes             1112641.00\n",
       "Tourist consumption                            91.00\n",
       "Name: y2017, dtype: float64"
      ]
     },
     "execution_count": 148,
     "metadata": {},
     "output_type": "execute_result"
    }
   ],
   "source": [
    "# Perform a groupby operation on ‘Element’.  What is the total number of the sum of Processing in 2017?\n",
    "\n",
    "food_balance_datasets.groupby(['element'])['y2017'].sum()"
   ]
  },
  {
   "cell_type": "code",
   "execution_count": 134,
   "metadata": {},
   "outputs": [
    {
     "data": {
      "text/html": [
       "<div>\n",
       "<style scoped>\n",
       "    .dataframe tbody tr th:only-of-type {\n",
       "        vertical-align: middle;\n",
       "    }\n",
       "\n",
       "    .dataframe tbody tr th {\n",
       "        vertical-align: top;\n",
       "    }\n",
       "\n",
       "    .dataframe thead th {\n",
       "        text-align: right;\n",
       "    }\n",
       "</style>\n",
       "<table border=\"1\" class=\"dataframe\">\n",
       "  <thead>\n",
       "    <tr style=\"text-align: right;\">\n",
       "      <th></th>\n",
       "      <th>area code</th>\n",
       "      <th>item code</th>\n",
       "      <th>element code</th>\n",
       "      <th>y2014</th>\n",
       "      <th>y2015</th>\n",
       "      <th>y2016</th>\n",
       "      <th>y2017</th>\n",
       "      <th>y2018</th>\n",
       "    </tr>\n",
       "  </thead>\n",
       "  <tbody>\n",
       "    <tr>\n",
       "      <th>count</th>\n",
       "      <td>60943.000000</td>\n",
       "      <td>60943.000000</td>\n",
       "      <td>60943.000000</td>\n",
       "      <td>59354.000000</td>\n",
       "      <td>59395.000000</td>\n",
       "      <td>59408.000000</td>\n",
       "      <td>59437.000000</td>\n",
       "      <td>59507.000000</td>\n",
       "    </tr>\n",
       "    <tr>\n",
       "      <th>mean</th>\n",
       "      <td>134.265576</td>\n",
       "      <td>2687.176706</td>\n",
       "      <td>3814.856456</td>\n",
       "      <td>134.196282</td>\n",
       "      <td>135.235966</td>\n",
       "      <td>136.555222</td>\n",
       "      <td>140.917765</td>\n",
       "      <td>143.758381</td>\n",
       "    </tr>\n",
       "    <tr>\n",
       "      <th>std</th>\n",
       "      <td>72.605709</td>\n",
       "      <td>146.055739</td>\n",
       "      <td>2212.007033</td>\n",
       "      <td>1567.663696</td>\n",
       "      <td>1603.403984</td>\n",
       "      <td>1640.007194</td>\n",
       "      <td>1671.862359</td>\n",
       "      <td>1710.782658</td>\n",
       "    </tr>\n",
       "    <tr>\n",
       "      <th>min</th>\n",
       "      <td>4.000000</td>\n",
       "      <td>2501.000000</td>\n",
       "      <td>511.000000</td>\n",
       "      <td>-1796.000000</td>\n",
       "      <td>-3161.000000</td>\n",
       "      <td>-3225.000000</td>\n",
       "      <td>-1582.000000</td>\n",
       "      <td>-3396.000000</td>\n",
       "    </tr>\n",
       "    <tr>\n",
       "      <th>25%</th>\n",
       "      <td>74.000000</td>\n",
       "      <td>2562.000000</td>\n",
       "      <td>684.000000</td>\n",
       "      <td>0.000000</td>\n",
       "      <td>0.000000</td>\n",
       "      <td>0.000000</td>\n",
       "      <td>0.000000</td>\n",
       "      <td>0.000000</td>\n",
       "    </tr>\n",
       "    <tr>\n",
       "      <th>50%</th>\n",
       "      <td>136.000000</td>\n",
       "      <td>2630.000000</td>\n",
       "      <td>5142.000000</td>\n",
       "      <td>0.090000</td>\n",
       "      <td>0.080000</td>\n",
       "      <td>0.080000</td>\n",
       "      <td>0.100000</td>\n",
       "      <td>0.070000</td>\n",
       "    </tr>\n",
       "    <tr>\n",
       "      <th>75%</th>\n",
       "      <td>195.000000</td>\n",
       "      <td>2775.000000</td>\n",
       "      <td>5511.000000</td>\n",
       "      <td>8.340000</td>\n",
       "      <td>8.460000</td>\n",
       "      <td>8.430000</td>\n",
       "      <td>9.000000</td>\n",
       "      <td>9.000000</td>\n",
       "    </tr>\n",
       "    <tr>\n",
       "      <th>max</th>\n",
       "      <td>276.000000</td>\n",
       "      <td>2961.000000</td>\n",
       "      <td>5911.000000</td>\n",
       "      <td>176405.000000</td>\n",
       "      <td>181137.000000</td>\n",
       "      <td>185960.000000</td>\n",
       "      <td>190873.000000</td>\n",
       "      <td>195875.000000</td>\n",
       "    </tr>\n",
       "  </tbody>\n",
       "</table>\n",
       "</div>"
      ],
      "text/plain": [
       "          area code     item code  element code          y2014          y2015  \\\n",
       "count  60943.000000  60943.000000  60943.000000   59354.000000   59395.000000   \n",
       "mean     134.265576   2687.176706   3814.856456     134.196282     135.235966   \n",
       "std       72.605709    146.055739   2212.007033    1567.663696    1603.403984   \n",
       "min        4.000000   2501.000000    511.000000   -1796.000000   -3161.000000   \n",
       "25%       74.000000   2562.000000    684.000000       0.000000       0.000000   \n",
       "50%      136.000000   2630.000000   5142.000000       0.090000       0.080000   \n",
       "75%      195.000000   2775.000000   5511.000000       8.340000       8.460000   \n",
       "max      276.000000   2961.000000   5911.000000  176405.000000  181137.000000   \n",
       "\n",
       "               y2016          y2017          y2018  \n",
       "count   59408.000000   59437.000000   59507.000000  \n",
       "mean      136.555222     140.917765     143.758381  \n",
       "std      1640.007194    1671.862359    1710.782658  \n",
       "min     -3225.000000   -1582.000000   -3396.000000  \n",
       "25%         0.000000       0.000000       0.000000  \n",
       "50%         0.080000       0.100000       0.070000  \n",
       "75%         8.430000       9.000000       9.000000  \n",
       "max    185960.000000  190873.000000  195875.000000  "
      ]
     },
     "execution_count": 134,
     "metadata": {},
     "output_type": "execute_result"
    }
   ],
   "source": [
    "#19\n",
    "food_balance_datasets.describe()"
   ]
  },
  {
   "cell_type": "code",
   "execution_count": 135,
   "metadata": {},
   "outputs": [
    {
     "data": {
      "text/plain": [
       "area code          0\n",
       "area               0\n",
       "item code          0\n",
       "item               0\n",
       "element code       0\n",
       "element            0\n",
       "unit               0\n",
       "y2014           1589\n",
       "y2015           1548\n",
       "y2016           1535\n",
       "y2017           1506\n",
       "y2018           1436\n",
       "dtype: int64"
      ]
     },
     "execution_count": 135,
     "metadata": {},
     "output_type": "execute_result"
    }
   ],
   "source": [
    "#20\n",
    "\n",
    "food_balance_datasets.isnull().sum()"
   ]
  }
 ],
 "metadata": {
  "kernelspec": {
   "display_name": "env",
   "language": "python",
   "name": "python3"
  },
  "language_info": {
   "codemirror_mode": {
    "name": "ipython",
    "version": 3
   },
   "file_extension": ".py",
   "mimetype": "text/x-python",
   "name": "python",
   "nbconvert_exporter": "python",
   "pygments_lexer": "ipython3",
   "version": "3.11.5"
  },
  "orig_nbformat": 4
 },
 "nbformat": 4,
 "nbformat_minor": 2
}
